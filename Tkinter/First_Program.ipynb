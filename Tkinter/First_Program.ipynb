{
 "cells": [
  {
   "cell_type": "markdown",
   "id": "8eb6e163-15bf-4a28-9e18-d3e82905d56c",
   "metadata": {},
   "source": [
    "<hr>"
   ]
  },
  {
   "cell_type": "markdown",
   "id": "45023825-0f58-4a67-88f0-4983c2538bae",
   "metadata": {},
   "source": [
    "<h2 style = \"font-family:times;\"> Firts Program using Tkinter </h2>"
   ]
  },
  {
   "cell_type": "markdown",
   "id": "86e62676-678f-4a9f-acbb-cf9f4cdf8ce6",
   "metadata": {},
   "source": [
    "<hr>"
   ]
  },
  {
   "cell_type": "markdown",
   "id": "c2e0de5b-a7a6-4c83-be65-c53f9169a612",
   "metadata": {},
   "source": [
    "<div style = \"border: 2px solid black; padding: 10px; color: black; background-color: white;text-align: center; vertical-align:middle; font-family:times;\">\n",
    "    <h4> Creating an window with buttons and a menu </h4>\n",
    "</div>"
   ]
  },
  {
   "cell_type": "markdown",
   "id": "fd61f95b-8b07-43eb-9b42-19094b44ddcd",
   "metadata": {},
   "source": [
    "<hr>"
   ]
  },
  {
   "cell_type": "code",
   "execution_count": 3,
   "id": "2e11df6b-fd0f-4b52-bec0-5733a12ffb6b",
   "metadata": {},
   "outputs": [],
   "source": [
    "from tkinter import *"
   ]
  },
  {
   "cell_type": "code",
   "execution_count": 26,
   "id": "227dd5b7-3f27-4050-9f3b-97ce06ed6241",
   "metadata": {},
   "outputs": [],
   "source": [
    "root = Tk()\n",
    "\n",
    "# Create a root wiht a defined title and geometry\n",
    "root.title(\"Welcome!\")\n",
    "root.geometry('450x200')\n",
    "\n",
    "# Placing a Menu (Don't work in OSX)\n",
    "menu = Menu(root)\n",
    "\n",
    "item = Menu(menu)\n",
    "\n",
    "item.add_command(label = \"Open\")\n",
    "item.add_command(label = \"Save\")\n",
    "item.add_command(label = \"Close\")\n",
    "\n",
    "menu.add_cascade(label = \"File\", menu = item)\n",
    "\n",
    "root.config(menu = menu)\n",
    "\n",
    "# Writting inside the window created\n",
    "lb = Label(root, text = \"This is the first Tkinter program!\")\n",
    "lb.grid()\n",
    "\n",
    "# Defines an action whent the buttom is clicked\n",
    "def clicked():\n",
    "    lb.configure(text = \"Clicked!\")\n",
    "\n",
    "def sendText():\n",
    "    res = \"You wrote\" + txt.get()\n",
    "    lb.configure(text = res)\n",
    "\n",
    "# Adds a buttom\n",
    "btn1 = Button(root, text = \"Clicable!\", fg = \"red\", command = clicked)\n",
    "btn1.grid(column = 1, row = 0)\n",
    "\n",
    "btn2 = Button(root, text = \"Textable!\", fg = \"blue\", command = sendText)\n",
    "btn2.grid(column = 1, row = 1)\n",
    "\n",
    "# Adds a text box\n",
    "txt = Entry(root, width = 10)\n",
    "txt.grid(column = 2, row = 1)\n",
    "\n",
    "root.mainloop()"
   ]
  },
  {
   "cell_type": "markdown",
   "id": "0a837833-3a6d-4442-b8fb-9f893fde9148",
   "metadata": {},
   "source": [
    "<hr>"
   ]
  }
 ],
 "metadata": {
  "kernelspec": {
   "display_name": "Python 3 (ipykernel)",
   "language": "python",
   "name": "python3"
  },
  "language_info": {
   "codemirror_mode": {
    "name": "ipython",
    "version": 3
   },
   "file_extension": ".py",
   "mimetype": "text/x-python",
   "name": "python",
   "nbconvert_exporter": "python",
   "pygments_lexer": "ipython3",
   "version": "3.8.12"
  }
 },
 "nbformat": 4,
 "nbformat_minor": 5
}
