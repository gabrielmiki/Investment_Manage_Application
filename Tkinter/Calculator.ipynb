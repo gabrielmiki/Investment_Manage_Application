{
 "cells": [
  {
   "cell_type": "markdown",
   "id": "62b48faa-1d70-41c6-ad36-7fe0c4b7134e",
   "metadata": {},
   "source": [
    "<hr>"
   ]
  },
  {
   "cell_type": "markdown",
   "id": "e36cada0-3735-40ef-9a29-7565cfe229a4",
   "metadata": {},
   "source": [
    "<h2 style = \"font-family:times;\"> Calculator using Tkinter </h2>"
   ]
  },
  {
   "cell_type": "markdown",
   "id": "65904906-273a-4c4f-a82c-85160d8d2054",
   "metadata": {},
   "source": [
    "<hr>"
   ]
  },
  {
   "cell_type": "markdown",
   "id": "d4a3b500-aa8a-4b19-a48d-c74eceb65f1c",
   "metadata": {},
   "source": [
    "<div style = \"border: 2px solid black; padding: 10px; color: black; background-color: white;text-align: center; vertical-align:middle; font-family:times;\">\n",
    "    <h4> Creating an calculator with Tkinter </h4>\n",
    "</div>"
   ]
  },
  {
   "cell_type": "markdown",
   "id": "2392cba0-e05d-4b04-8d14-8bd6a29fb39d",
   "metadata": {},
   "source": [
    "<hr>"
   ]
  },
  {
   "cell_type": "code",
   "execution_count": 45,
   "id": "43fc834b-5643-4be3-8091-251ff9f656ea",
   "metadata": {},
   "outputs": [],
   "source": [
    "import tkinter as tk"
   ]
  },
  {
   "cell_type": "code",
   "execution_count": 46,
   "id": "1d68f447-ba06-409b-95a4-1445dcbba7d5",
   "metadata": {},
   "outputs": [],
   "source": [
    "class calculator():\n",
    "    \n",
    "# ========================================================================================================\n",
    "#                                         Set window configuratios\n",
    "# ========================================================================================================\n",
    "\n",
    "    def creatRoot(self):\n",
    "        self._root = tk.Tk()\n",
    "        \n",
    "        self._root.configure(background = \"navy\")\n",
    "        \n",
    "        self._root.geometry(\"400x350\")\n",
    "        \n",
    "        self._root.title(\"Compound Interest Calculator\")\n",
    "        \n",
    "        label1 = tk.Label(self._root, text = \"Principle Amount(Rs) : \", \n",
    "                          fg = \"white\", bg = \"red\")\n",
    "        \n",
    "        label2 = tk.Label(self._root, text = \"Rate(%) : \", \n",
    "                          fg = 'white', bg = 'red') \n",
    "        \n",
    "        label3 = tk.Label(self._root, text = \"Time(years) : \", \n",
    "                          fg = 'white', bg = 'red')\n",
    "        \n",
    "        label4 = tk.Label(self._root, text = \"Compound Interest : \", \n",
    "                       fg = 'white', bg = 'red') \n",
    "        \n",
    "        label1.grid(row = 1, column = 0, padx = 10, pady = 10)  \n",
    "        label2.grid(row = 2, column = 0, padx = 10, pady = 10)  \n",
    "        label3.grid(row = 3, column = 0, padx = 10, pady = 10)\n",
    "        label4.grid(row = 5, column = 0, padx = 10, pady = 10)        \n",
    "        \n",
    "    def creatButtons(self):\n",
    "        self._principle_field = tk.Entry(self._root)  \n",
    "        self._rate_field = tk.Entry(self._root)  \n",
    "        self._time_field = tk.Entry(self._root)\n",
    "        self._compound_field = tk.Entry(self._root)\n",
    " \n",
    "        self._principle_field.grid(row = 1, column = 1, padx = 10, pady = 10)  \n",
    "        self._rate_field.grid(row = 2, column = 1, padx = 10, pady = 10)  \n",
    "        self._time_field.grid(row = 3, column = 1, padx = 10, pady = 10)\n",
    "        self._compound_field.grid(row = 5, column = 1, padx = 10, pady = 10) \n",
    "    \n",
    "        self._button1 = tk.Button(self._root, text = \"Calculate!\", bg = \"magenta\",  \n",
    "                            fg = \"white\", command = self.calculate) \n",
    "    \n",
    "        self._button2 = tk.Button(self._root, text = \"Clear!\", bg = \"red\",  \n",
    "                            fg = \"white\", command = self.clear)\n",
    "   \n",
    "        self._button1.grid(row = 4, column = 1, pady = 10) \n",
    "        self._button2.grid(row = 6, column = 1, pady = 10)\n",
    "        \n",
    "# ========================================================================================================\n",
    "#                                                 Functions \n",
    "# ========================================================================================================        \n",
    "        \n",
    "    def clear(self):\n",
    "        self._principle_field.delete(0, tk.END)   \n",
    "        self._rate_field.delete(0, tk.END) \n",
    "        self._time_field.delete(0, tk.END)\n",
    "        self._compound_field.delete(0, tk.END)\n",
    "   \n",
    "        self._principle_field.focus_set() \n",
    "    \n",
    "    def calculate(self): \n",
    "        principle = int(self._principle_field.get())\n",
    "     \n",
    "        rate = float(self._rate_field.get())\n",
    " \n",
    "        time = int(self._time_field.get())\n",
    "    \n",
    "        CI = principle * (pow((1 + rate / 100), time))\n",
    " \n",
    "        self._compound_field.insert(10, CI)\n",
    "\n",
    "# ========================================================================================================\n",
    "#                                                   Main\n",
    "# ========================================================================================================\n",
    "\n",
    "    def main(self):        \n",
    "        self.creatRoot()\n",
    "        \n",
    "        self.creatButtons()\n",
    "        \n",
    "        self._root.mainloop()"
   ]
  },
  {
   "cell_type": "code",
   "execution_count": 47,
   "id": "1b461f7d-d5da-4816-b567-aeefc1cfe885",
   "metadata": {},
   "outputs": [],
   "source": [
    "calc = calculator()\n",
    "\n",
    "calc.main()"
   ]
  },
  {
   "cell_type": "markdown",
   "id": "e1bd2c4a-a921-4e15-9bb2-e3e4f1c53fe8",
   "metadata": {},
   "source": [
    "<hr>"
   ]
  }
 ],
 "metadata": {
  "kernelspec": {
   "display_name": "Python 3 (ipykernel)",
   "language": "python",
   "name": "python3"
  },
  "language_info": {
   "codemirror_mode": {
    "name": "ipython",
    "version": 3
   },
   "file_extension": ".py",
   "mimetype": "text/x-python",
   "name": "python",
   "nbconvert_exporter": "python",
   "pygments_lexer": "ipython3",
   "version": "3.8.12"
  }
 },
 "nbformat": 4,
 "nbformat_minor": 5
}
