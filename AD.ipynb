{
 "cells": [
  {
   "cell_type": "markdown",
   "id": "3c616337-a864-412d-a277-13c92d0908b1",
   "metadata": {},
   "source": [
    "<h2> Armazenamento de Dados </h2>\n",
    "\n",
    "<h4> 1. Armazenar dados obtidos em um database </h4>"
   ]
  },
  {
   "cell_type": "code",
   "execution_count": 13,
   "id": "3a71684b-5ee4-48a9-8260-4e03a052c1c0",
   "metadata": {},
   "outputs": [],
   "source": [
    "import sqlite3\n",
    "import json\n",
    "import codecs\n",
    "import urllib.request, urllib.parse, urllib.error\n",
    "import http\n",
    "import time\n",
    "import ssl\n",
    "import sys\n",
    "import pandas as pd"
   ]
  },
  {
   "cell_type": "code",
   "execution_count": null,
   "id": "3fea5822-8291-4c73-b636-919116554cf1",
   "metadata": {},
   "outputs": [],
   "source": [
    "class armazenamentoDados():\n",
    "    \n",
    "    def __init__(self, dataBaseName):\n",
    "        self._conn = sqlite3.connect(dataBaseName)\n",
    "        self._cur = self._conn.cursor()\n",
    "        \n",
    "    def createDataBase(self, df):\n",
    "        tableName = input(\"Chose the table name: \")\n",
    "                                \n",
    "        tableFeatures = list(df.columns)\n",
    "        \n",
    "        count = 0\n",
    "        featureTypes = list(df.dtypes)\n",
    "        for (featType in featureTypes):\n",
    "            if (featType == \"int\"):\n",
    "                count += 1\n",
    "                \n",
    "                tableFeatures.insert(count, \"INTEGER\")\n",
    "            \n",
    "            elif (featType == \"float\"):\n",
    "                count += 1\n",
    "                \n",
    "                tableFeatures.insert(count, \"FLOAT\")\n",
    "                \n",
    "            else:\n",
    "                count += 1\n",
    "                \n",
    "                tableFeatures.insert(count, \"TEXT\")\n",
    "                                \n",
    "        tableFeatures = tuple(tableFeatures.insert(0, tableName))\n",
    "                               \n",
    "        self._cur.execute('''\n",
    "                CREATE TABLE IF NOT EXISTS ? (address TEXT, geodata TEXT)\n",
    "                          ''', tableCaracteristics)\n",
    "    "
   ]
  },
  {
   "cell_type": "code",
   "execution_count": 15,
   "id": "1dd552f9-7a31-49fd-a88b-661c604df8ab",
   "metadata": {},
   "outputs": [],
   "source": [
    "d = [[1, 2, 3, 4], [5, 6, 7, 8]]\n",
    "df = pd.DataFrame(d)"
   ]
  },
  {
   "cell_type": "code",
   "execution_count": 19,
   "id": "2f1a822e-ce42-48d6-bb90-e90102ba7e0e",
   "metadata": {},
   "outputs": [],
   "source": [
    "df.columns = [\"Crros\", \"Bikes\", \"Motos\", \"Blabla\"]"
   ]
  },
  {
   "cell_type": "code",
   "execution_count": 27,
   "id": "4faf9d64-6c5e-44db-8c6f-1cb5a4dc82be",
   "metadata": {},
   "outputs": [],
   "source": [
    "df[\"Notas\"] = [\"Baixa\", \"Alta\"]"
   ]
  },
  {
   "cell_type": "code",
   "execution_count": 46,
   "id": "7d844c0d-d7e0-4891-8bca-7d658fecef6b",
   "metadata": {},
   "outputs": [
    {
     "data": {
      "text/plain": [
       "True"
      ]
     },
     "execution_count": 46,
     "metadata": {},
     "output_type": "execute_result"
    }
   ],
   "source": [
    "list(df.dtypes)[0] == 'int'"
   ]
  },
  {
   "cell_type": "code",
   "execution_count": 36,
   "id": "c51f659b-ec99-4af6-bb91-a4455b11bd98",
   "metadata": {},
   "outputs": [],
   "source": [
    "c = list([2, 3, 4, 5])"
   ]
  },
  {
   "cell_type": "code",
   "execution_count": 38,
   "id": "fa91488e-daa9-46f6-984a-0e17e9066cf7",
   "metadata": {},
   "outputs": [],
   "source": [
    "c.insert(0, 1)"
   ]
  },
  {
   "cell_type": "code",
   "execution_count": 39,
   "id": "7587f21f-69b7-4be7-acb1-9fa43e766605",
   "metadata": {},
   "outputs": [
    {
     "data": {
      "text/plain": [
       "[1, 2, 3, 4, 5]"
      ]
     },
     "execution_count": 39,
     "metadata": {},
     "output_type": "execute_result"
    }
   ],
   "source": [
    "c"
   ]
  },
  {
   "cell_type": "code",
   "execution_count": 47,
   "id": "101b6003-97bc-4cd5-88f9-fe9a81b3a573",
   "metadata": {},
   "outputs": [],
   "source": [
    "count = 0"
   ]
  },
  {
   "cell_type": "code",
   "execution_count": 50,
   "id": "d91a64a5-4768-4d76-83ed-ddcd8dcc396c",
   "metadata": {},
   "outputs": [],
   "source": [
    "count+=1"
   ]
  },
  {
   "cell_type": "code",
   "execution_count": 51,
   "id": "2e5f4391-4ded-4067-aac2-d63ce19daf56",
   "metadata": {},
   "outputs": [
    {
     "data": {
      "text/plain": [
       "1"
      ]
     },
     "execution_count": 51,
     "metadata": {},
     "output_type": "execute_result"
    }
   ],
   "source": [
    "count"
   ]
  },
  {
   "cell_type": "code",
   "execution_count": null,
   "id": "b5f6e3d0-221b-4796-a1c1-52810437a171",
   "metadata": {},
   "outputs": [],
   "source": []
  }
 ],
 "metadata": {
  "kernelspec": {
   "display_name": "Python 3 (ipykernel)",
   "language": "python",
   "name": "python3"
  },
  "language_info": {
   "codemirror_mode": {
    "name": "ipython",
    "version": 3
   },
   "file_extension": ".py",
   "mimetype": "text/x-python",
   "name": "python",
   "nbconvert_exporter": "python",
   "pygments_lexer": "ipython3",
   "version": "3.8.12"
  }
 },
 "nbformat": 4,
 "nbformat_minor": 5
}
