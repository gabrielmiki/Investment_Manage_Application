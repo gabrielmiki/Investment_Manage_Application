{
 "cells": [
  {
   "cell_type": "markdown",
   "id": "6912913f-3c95-4502-9787-8fb69e8ba15e",
   "metadata": {},
   "source": [
    "<hr>"
   ]
  },
  {
   "cell_type": "markdown",
   "id": "521ed3bf-0a1e-419e-bf2a-452b1eb534ea",
   "metadata": {},
   "source": [
    "<h2 style = \"font-family:times; text-align: center;\"> Counting email Messages Sent </h2>"
   ]
  },
  {
   "cell_type": "markdown",
   "id": "bf91ee61-11a2-48a3-9d2b-c3d708fe7dec",
   "metadata": {},
   "source": [
    "<hr>"
   ]
  },
  {
   "cell_type": "markdown",
   "id": "3e8f2bd4-d541-45b4-b39d-77b064a1bf5c",
   "metadata": {},
   "source": [
    "<div style = \"border: 2px solid black; padding: 10px; color: black; background-color: white;text-align: center; vertical-align:middle; font-family:times;\">\n",
    "    <h4> Creating an application to count the number of times a certain email address sent a message </h4>\n",
    "</div>"
   ]
  },
  {
   "cell_type": "markdown",
   "id": "d6526d34-c2a0-4d59-9c76-95ba76d752ce",
   "metadata": {},
   "source": [
    "<hr>"
   ]
  },
  {
   "cell_type": "code",
   "execution_count": 5,
   "id": "75b988fe-3b3b-4947-9231-da70209d4fcd",
   "metadata": {},
   "outputs": [],
   "source": [
    "import sqlite3"
   ]
  },
  {
   "cell_type": "code",
   "execution_count": 6,
   "id": "e832e3d4-3378-4fb8-8d88-ceb910e1b108",
   "metadata": {},
   "outputs": [],
   "source": [
    "conn = sqlite3.connect(\"emaildb.sqlite\")\n",
    "\n",
    "cur = conn.cursor()"
   ]
  },
  {
   "cell_type": "code",
   "execution_count": 7,
   "id": "9dd84f1a-6adf-43ef-b9c2-36ef456a6f6c",
   "metadata": {},
   "outputs": [
    {
     "data": {
      "text/plain": [
       "<sqlite3.Cursor at 0x7f8083dc0340>"
      ]
     },
     "execution_count": 7,
     "metadata": {},
     "output_type": "execute_result"
    }
   ],
   "source": [
    "cur.execute('''\n",
    "        DROP TABLE IF EXISTS Counts\n",
    "            ''')\n",
    "\n",
    "cur.execute('''\n",
    "        CREATE TABLE Counts (email TEXT, count INTEGER)\n",
    "            ''')"
   ]
  },
  {
   "cell_type": "code",
   "execution_count": 9,
   "id": "22ea4559-b61c-4fae-9b87-365aae92acf5",
   "metadata": {},
   "outputs": [
    {
     "name": "stdin",
     "output_type": "stream",
     "text": [
      "Enter a file name:  \n"
     ]
    }
   ],
   "source": [
    "fname  = input(\"Enter a file name: \")\n",
    "\n",
    "if (len(fname) < 1): fname = \"mbox.txt\"\n",
    "\n",
    "fh = open(fname)\n",
    "\n",
    "for line in fh:\n",
    "    # Checking if the line contais the email\n",
    "    if (not line.startswith(\"From: \")): continue\n",
    "    \n",
    "    # Splitting the line\n",
    "    pieces = line.split()\n",
    "    \n",
    "    # Taking the email address\n",
    "    email = pieces[1]\n",
    "    \n",
    "    # Printing the rows with the email address fount \n",
    "    cur.execute('''\n",
    "            SELECT count FROM Counts WHERE email = ? \n",
    "                ''', (email, ))\n",
    "    \n",
    "    # Sets row value to what we got from the previous command\n",
    "    row = cur.fetchone()\n",
    "    \n",
    "    if (row is None):\n",
    "        cur.execute('''\n",
    "                INSERT INTO Counts (email, count) VALUES (?, 1)\n",
    "                    ''', (email, ))\n",
    "        \n",
    "    else:\n",
    "        cur.execute('''\n",
    "                UPDATE Counts SET count = count + 1 WHERE email = ?\n",
    "                    ''', (email, ))\n",
    "        \n",
    "    conn.commit()"
   ]
  },
  {
   "cell_type": "code",
   "execution_count": 13,
   "id": "2cd46ff1-9504-4a9e-8570-3788b74311a5",
   "metadata": {},
   "outputs": [
    {
     "name": "stdout",
     "output_type": "stream",
     "text": [
      "zqian@umich.edu 195\n",
      "mmmay@indiana.edu 161\n",
      "cwen@iupui.edu 158\n",
      "chmaurer@iupui.edu 111\n",
      "aaronz@vt.edu 110\n",
      "ian@caret.cam.ac.uk 96\n",
      "jimeng@umich.edu 93\n",
      "rjlowe@iupui.edu 90\n",
      "dlhaines@umich.edu 84\n",
      "david.horwitz@uct.ac.za 67\n"
     ]
    }
   ],
   "source": [
    "sqlstr = \"SELECT email, count FROM Counts ORDER BY count DESC LIMIT 10\"\n",
    "\n",
    "for row in cur.execute(sqlstr):\n",
    "    print(str(row[0]), row[1])\n",
    "    \n",
    "cur.close()"
   ]
  },
  {
   "cell_type": "markdown",
   "id": "77c9741c-1b04-433d-b962-8297c463d491",
   "metadata": {},
   "source": [
    "<hr>"
   ]
  }
 ],
 "metadata": {
  "kernelspec": {
   "display_name": "Python 3 (ipykernel)",
   "language": "python",
   "name": "python3"
  },
  "language_info": {
   "codemirror_mode": {
    "name": "ipython",
    "version": 3
   },
   "file_extension": ".py",
   "mimetype": "text/x-python",
   "name": "python",
   "nbconvert_exporter": "python",
   "pygments_lexer": "ipython3",
   "version": "3.8.12"
  }
 },
 "nbformat": 4,
 "nbformat_minor": 5
}
