{
 "cells": [
  {
   "cell_type": "markdown",
   "id": "5962b495-3f8a-4d7b-9a62-6a0afcd2ac3c",
   "metadata": {},
   "source": [
    "<h2> Ideias de desenvolvimento </h2>\n",
    "\n",
    "<ol> \n",
    "    <li> Organizar e Obter Informações de Empresas Investidas </li>\n",
    "    <li> Analisar dados com text minning </li>\n",
    "    <li> Análise de Macro </li>\n",
    "    <li> Blanceamento de Carteira </li>\n",
    "</ol>"
   ]
  },
  {
   "cell_type": "markdown",
   "id": "880c216b-ee92-459a-85bf-17bf28366954",
   "metadata": {},
   "source": [
    "<hr>"
   ]
  },
  {
   "cell_type": "markdown",
   "id": "1a1ed623-e9ca-4ae5-bf59-a5dea3bd1d6f",
   "metadata": {},
   "source": [
    "<h2> 1. Organizar e Obter Informações de Empresas investidas </h2>\n",
    "\n",
    "<p> Objetivos do software </p>\n",
    "\n",
    "<ol> \n",
    "    <li> Pedir para o usuário as ações e empresas de interesse </li>\n",
    "    <li> Ir para a web e coletar informações das empresas selecionadas </li>\n",
    "    <li> Armazenar dados para o posterior uso em interface gráfica </li>\n",
    "    <li> Para o caso de muitos resultados, filtrar dados obtidos </li>\n",
    "</ol> "
   ]
  },
  {
   "cell_type": "markdown",
   "id": "d6241c47-d895-47a0-98a2-df77fd0cfe5c",
   "metadata": {},
   "source": [
    "<hr>"
   ]
  },
  {
   "cell_type": "markdown",
   "id": "9fdc1f1c-5591-4404-ae93-9e148de3a9f0",
   "metadata": {},
   "source": [
    "<h2> 2. Interface Gráfica </h2>\n",
    "\n",
    "<p> Objetivos do software </p>\n",
    "\n",
    "<ol> \n",
    "    <li> Apresentar opções de uso para o usuário </li>\n",
    "    <li> Plotar resultados </li>\n",
    "    <li> Retornar Análises </li>\n",
    "</ol> "
   ]
  },
  {
   "cell_type": "markdown",
   "id": "0bbca45a-929f-4aa0-b1f8-9a7443d7e08c",
   "metadata": {},
   "source": [
    "<hr>"
   ]
  },
  {
   "cell_type": "markdown",
   "id": "8fec16b1-6743-4862-9744-e6dbc2faf5a0",
   "metadata": {},
   "source": [
    "<h2> 3. Armazenamento de Dados </h2>\n",
    "\n",
    "<p> Objetivos do software </p>\n",
    "\n",
    "<ol> \n",
    "    <li> Usar de SQL para armazenar os dados coletados </li>\n",
    "    <li> Fornecer dados escolhidos após a coleta </li>\n",
    "    <li> Excluir dados após uso </li>\n",
    "</ol> "
   ]
  }
 ],
 "metadata": {
  "kernelspec": {
   "display_name": "Python 3 (ipykernel)",
   "language": "python",
   "name": "python3"
  },
  "language_info": {
   "codemirror_mode": {
    "name": "ipython",
    "version": 3
   },
   "file_extension": ".py",
   "mimetype": "text/x-python",
   "name": "python",
   "nbconvert_exporter": "python",
   "pygments_lexer": "ipython3",
   "version": "3.8.12"
  }
 },
 "nbformat": 4,
 "nbformat_minor": 5
}
